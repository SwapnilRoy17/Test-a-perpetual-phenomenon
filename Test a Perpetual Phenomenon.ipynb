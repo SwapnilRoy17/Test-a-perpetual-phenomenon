{
 "cells": [
  {
   "cell_type": "markdown",
   "metadata": {},
   "source": [
    "# Stroop Dataset\n",
    "\n",
    "1. What is our independent variable? What is our dependent variable?\n",
    "\n",
    "Ans> An independent variable is a variable which is a predictor variable and it's value not dependent on any factor. Here in our dataset congruency is such variable. It is the variable upon which we can have experimental analysis.\n",
    "A dependent variable is such whose value will be depndent on the independent variable. Here time is our dependent variable."
   ]
  },
  {
   "cell_type": "markdown",
   "metadata": {},
   "source": [
    "2. What is an appropriate set of hypotheses for this task? What kind of statistical test do you expect to perform? Justify your choices\n",
    "\n",
    "Ans> 2(a)For this task we can say for null hypothesis that congruency has no effect on mean time the participants take to say names of ink colours in equally sized lists(Mean time required for congruent and incongruent condition will not be any different).\n",
    "For alternate hypothesis, congruency has an effect on the recorded time(Mean time required for congruent condition will be less as conmapred to mean time for incongruent condition).\n",
    "\n",
    "H0: There is no difference in means of response time for both congruent and incongruent condition\n",
    "    (H0: MI=MC)\n",
    "Ha: Mean of response time under congruent condition is significantly smaller than mean of response time under incongruent condition.\n",
    "    (Ha: MI>MC)\n",
    "    \n",
    "2(b) As the sample size is less than 30 and we do not have population standard deviation we will be doing t-test.    \n",
    "We will perform one-tailed test as we would like to consider the congruency test to have directional effect(i.e, we consider that congruency reduces the mean response time significantly).\n",
    "As for the sample the test under congruent and incongrent condition is performed on same person, i.e, response time for 24 person is recorded for both congruent and incongruent conditions, we will be performing paired t-test.\n"
   ]
  },
  {
   "cell_type": "markdown",
   "metadata": {},
   "source": [
    "3. Report some descriptive statistics regarding this dataset. Include at least one measure of central tendency and at least one measure of variability.\n",
    "\n",
    "Ans> We would first insert the data from stroopdata.csv in this notebook.\n"
   ]
  },
  {
   "cell_type": "code",
   "execution_count": 1,
   "metadata": {},
   "outputs": [
    {
     "data": {
      "text/html": [
       "<div>\n",
       "<style scoped>\n",
       "    .dataframe tbody tr th:only-of-type {\n",
       "        vertical-align: middle;\n",
       "    }\n",
       "\n",
       "    .dataframe tbody tr th {\n",
       "        vertical-align: top;\n",
       "    }\n",
       "\n",
       "    .dataframe thead th {\n",
       "        text-align: right;\n",
       "    }\n",
       "</style>\n",
       "<table border=\"1\" class=\"dataframe\">\n",
       "  <thead>\n",
       "    <tr style=\"text-align: right;\">\n",
       "      <th></th>\n",
       "      <th>Congruent</th>\n",
       "      <th>Incongruent</th>\n",
       "    </tr>\n",
       "  </thead>\n",
       "  <tbody>\n",
       "    <tr>\n",
       "      <th>0</th>\n",
       "      <td>12.079</td>\n",
       "      <td>19.278</td>\n",
       "    </tr>\n",
       "    <tr>\n",
       "      <th>1</th>\n",
       "      <td>16.791</td>\n",
       "      <td>18.741</td>\n",
       "    </tr>\n",
       "    <tr>\n",
       "      <th>2</th>\n",
       "      <td>9.564</td>\n",
       "      <td>21.214</td>\n",
       "    </tr>\n",
       "    <tr>\n",
       "      <th>3</th>\n",
       "      <td>8.630</td>\n",
       "      <td>15.687</td>\n",
       "    </tr>\n",
       "    <tr>\n",
       "      <th>4</th>\n",
       "      <td>14.669</td>\n",
       "      <td>22.803</td>\n",
       "    </tr>\n",
       "    <tr>\n",
       "      <th>5</th>\n",
       "      <td>12.238</td>\n",
       "      <td>20.878</td>\n",
       "    </tr>\n",
       "    <tr>\n",
       "      <th>6</th>\n",
       "      <td>14.692</td>\n",
       "      <td>24.572</td>\n",
       "    </tr>\n",
       "    <tr>\n",
       "      <th>7</th>\n",
       "      <td>8.987</td>\n",
       "      <td>17.394</td>\n",
       "    </tr>\n",
       "    <tr>\n",
       "      <th>8</th>\n",
       "      <td>9.401</td>\n",
       "      <td>20.762</td>\n",
       "    </tr>\n",
       "    <tr>\n",
       "      <th>9</th>\n",
       "      <td>14.480</td>\n",
       "      <td>26.282</td>\n",
       "    </tr>\n",
       "    <tr>\n",
       "      <th>10</th>\n",
       "      <td>22.328</td>\n",
       "      <td>24.524</td>\n",
       "    </tr>\n",
       "    <tr>\n",
       "      <th>11</th>\n",
       "      <td>15.298</td>\n",
       "      <td>18.644</td>\n",
       "    </tr>\n",
       "    <tr>\n",
       "      <th>12</th>\n",
       "      <td>15.073</td>\n",
       "      <td>17.510</td>\n",
       "    </tr>\n",
       "    <tr>\n",
       "      <th>13</th>\n",
       "      <td>16.929</td>\n",
       "      <td>20.330</td>\n",
       "    </tr>\n",
       "    <tr>\n",
       "      <th>14</th>\n",
       "      <td>18.200</td>\n",
       "      <td>35.255</td>\n",
       "    </tr>\n",
       "    <tr>\n",
       "      <th>15</th>\n",
       "      <td>12.130</td>\n",
       "      <td>22.158</td>\n",
       "    </tr>\n",
       "    <tr>\n",
       "      <th>16</th>\n",
       "      <td>18.495</td>\n",
       "      <td>25.139</td>\n",
       "    </tr>\n",
       "    <tr>\n",
       "      <th>17</th>\n",
       "      <td>10.639</td>\n",
       "      <td>20.429</td>\n",
       "    </tr>\n",
       "    <tr>\n",
       "      <th>18</th>\n",
       "      <td>11.344</td>\n",
       "      <td>17.425</td>\n",
       "    </tr>\n",
       "    <tr>\n",
       "      <th>19</th>\n",
       "      <td>12.369</td>\n",
       "      <td>34.288</td>\n",
       "    </tr>\n",
       "    <tr>\n",
       "      <th>20</th>\n",
       "      <td>12.944</td>\n",
       "      <td>23.894</td>\n",
       "    </tr>\n",
       "    <tr>\n",
       "      <th>21</th>\n",
       "      <td>14.233</td>\n",
       "      <td>17.960</td>\n",
       "    </tr>\n",
       "    <tr>\n",
       "      <th>22</th>\n",
       "      <td>19.710</td>\n",
       "      <td>22.058</td>\n",
       "    </tr>\n",
       "    <tr>\n",
       "      <th>23</th>\n",
       "      <td>16.004</td>\n",
       "      <td>21.157</td>\n",
       "    </tr>\n",
       "  </tbody>\n",
       "</table>\n",
       "</div>"
      ],
      "text/plain": [
       "    Congruent  Incongruent\n",
       "0      12.079       19.278\n",
       "1      16.791       18.741\n",
       "2       9.564       21.214\n",
       "3       8.630       15.687\n",
       "4      14.669       22.803\n",
       "5      12.238       20.878\n",
       "6      14.692       24.572\n",
       "7       8.987       17.394\n",
       "8       9.401       20.762\n",
       "9      14.480       26.282\n",
       "10     22.328       24.524\n",
       "11     15.298       18.644\n",
       "12     15.073       17.510\n",
       "13     16.929       20.330\n",
       "14     18.200       35.255\n",
       "15     12.130       22.158\n",
       "16     18.495       25.139\n",
       "17     10.639       20.429\n",
       "18     11.344       17.425\n",
       "19     12.369       34.288\n",
       "20     12.944       23.894\n",
       "21     14.233       17.960\n",
       "22     19.710       22.058\n",
       "23     16.004       21.157"
      ]
     },
     "execution_count": 1,
     "metadata": {},
     "output_type": "execute_result"
    }
   ],
   "source": [
    "import numpy as np\n",
    "import pandas as pd\n",
    "import matplotlib.pyplot as plt\n",
    "%matplotlib inline\n",
    "df_stroopdata=pd.read_csv(\"stroopdata.csv\")\n",
    "df_stroopdata"
   ]
  },
  {
   "cell_type": "code",
   "execution_count": 2,
   "metadata": {},
   "outputs": [
    {
     "name": "stdout",
     "output_type": "stream",
     "text": [
      "Measures of central tendency for the congruent and incongruent data :\n",
      "Mean of congruent and incongruent data : 14.051125000000004 & 22.01591666666667\n",
      "Median of congruent and incongruent data : 14.3565 & 21.0175\n",
      "--------------------------------------------------------------------------------\n",
      "Measures of Variability for the congruent and incongruent data :\n",
      "Mean of congruent and incongruent data : 3.559357957645195 & 4.797057122469138\n"
     ]
    }
   ],
   "source": [
    "print(\"Measures of central tendency for the congruent and incongruent data :\")\n",
    "\n",
    "cong_mean=df_stroopdata['Congruent'].mean()\n",
    "incong_mean=df_stroopdata['Incongruent'].mean()\n",
    "print(\"Mean of congruent and incongruent data :\",cong_mean,\"&\",incong_mean)\n",
    "\n",
    "cong_median=df_stroopdata['Congruent'].median()\n",
    "incong_median=df_stroopdata['Incongruent'].median()\n",
    "print(\"Median of congruent and incongruent data :\",cong_median,\"&\",incong_median)\n",
    "\n",
    "print('-'*80)\n",
    "\n",
    "\n",
    "print(\"Measures of Variability for the congruent and incongruent data :\")\n",
    "cong_std=df_stroopdata['Congruent'].std()\n",
    "incong_std=df_stroopdata['Incongruent'].std()\n",
    "print(\"Mean of congruent and incongruent data :\",cong_std,\"&\",incong_std)\n"
   ]
  },
  {
   "cell_type": "markdown",
   "metadata": {},
   "source": [
    "4. Provide one or two visualizations that show the distribution of the sample data. Write one or two sentences noting what you observe about the plot or plots.\n",
    "\n",
    "Ans> Below are the distributions"
   ]
  },
  {
   "cell_type": "code",
   "execution_count": 3,
   "metadata": {},
   "outputs": [
    {
     "name": "stdout",
     "output_type": "stream",
     "text": [
      "Comparison of the means of congruent and incongruent data :\n"
     ]
    },
    {
     "data": {
      "image/png": "[encoded data removed]",
      "text/plain": [
       "<Figure size 432x288 with 1 Axes>"
      ]
     },
     "metadata": {
      "needs_background": "light"
     },
     "output_type": "display_data"
    },
    {
     "name": "stdout",
     "output_type": "stream",
     "text": [
      "We can see on an average it takes less time to say congruent data.\n",
      "--------------------------------------------------------------------------------\n",
      "Now it's time to compare every corresponding data between congruent and incongruent data :\n"
     ]
    },
    {
     "data": {
      "image/png": "[encoded data removed]",
      "text/plain": [
       "<Figure size 432x288 with 1 Axes>"
      ]
     },
     "metadata": {
      "needs_background": "light"
     },
     "output_type": "display_data"
    }
   ],
   "source": [
    "print(\"Comparison of the means of congruent and incongruent data :\")\n",
    "p1=plt.bar(0,cong_mean,width=.35,color='r')\n",
    "p2=plt.bar(1,incong_mean,width=.35,color='b')\n",
    "\n",
    "plt.legend([p1,p2],['Congruent','Incongruent'])\n",
    "plt.xticks([0,1],('Congruent','Incongruent'))\n",
    "plt.show()\n",
    "\n",
    "if cong_mean<incong_mean:\n",
    "    print(\"We can see on an average it takes less time to say congruent data.\")\n",
    "else:\n",
    "    print(\"We can see on an average it takes more time to say congruent data.\")\n",
    "    \n",
    "print('-'*80)   \n",
    "print(\"Now it's time to compare every corresponding data between congruent and incongruent data :\")\n",
    "x=np.arange(len(df_stroopdata['Congruent']))\n",
    "p1=plt.bar(x,df_stroopdata['Congruent'],width=.35,color='r')\n",
    "p2=plt.bar(x+.35,df_stroopdata['Incongruent'],width=.35,color='b')\n",
    "\n",
    "plt.legend([p1,p2],['Congruent','Incongruent'])\n",
    "plt.show()"
   ]
  },
  {
   "cell_type": "markdown",
   "metadata": {},
   "source": [
    "We can see that time for each congruent data is less that corresponding incongruent. So, we can say that congruency reduces time."
   ]
  },
  {
   "cell_type": "markdown",
   "metadata": {},
   "source": [
    "5. Now, perform the statistical test and report your results. What is your confidence level and your critical statistic value? Do you reject the null hypothesis or fail to reject it? Come to a conclusion in terms of the experiment task. Did the results match up with your expectations?\n",
    "\n",
    "Ans> Now we are performing one tailed t-test. We are setting confidence level to be 95%. This is one tailed because we are assuming it to be directional which means we are expecting that congruency will reduce time in this case. for an alpha level of 0.05 and we know as there as 24 records so the degrees of freedom will be 24-1 that is 23. So, by looking at the t-table we find the t-score to be 1.714. As we expect the time to be reduced, by considering direction the t-score should be negative 1.714 (-1.714).\n",
    "\n",
    "As this test will be paired t-test (one-tailed)\n",
    "We calculate the differnce for each pair of congruent and incongruent data.\n",
    "We find out mean of that differences.\n",
    "Then, we find out sample standard deviation of that differnces.\n",
    "Then, we find out the sample error.\n",
    "Then calculate t-score by dividing mean of differences by sample error.\n",
    "Below is the t-score after intervention:"
   ]
  },
  {
   "cell_type": "code",
   "execution_count": 15,
   "metadata": {},
   "outputs": [
    {
     "name": "stdout",
     "output_type": "stream",
     "text": [
      "mean of differences :  -7.964791666666667\n",
      "standard deviation of differences :  4.864826910359056\n",
      "standard error :  0.9930286347783406\n",
      "t-score :  -8.020706944109957\n"
     ]
    }
   ],
   "source": [
    "#calculate the differnce for each pair of congruent and incongruent data.\n",
    "df_stroopdata['Difference']=df_stroopdata['Congruent']-df_stroopdata['Incongruent'] \n",
    "#find out mean of that differences.\n",
    "dif_mean=df_stroopdata['Difference'].mean()\n",
    "print(\"mean of differences : \",dif_mean)\n",
    "#we find out sample standard deviation of that differnces.\n",
    "dif_std=df_stroopdata['Difference'].std()\n",
    "print(\"standard deviation of differences : \",dif_std)\n",
    "#we find out the sample error(Divide standard deviation by squareroot of the number of samples).\n",
    "dif_se=dif_std/(24**.5)\n",
    "print(\"standard error : \",dif_se)\n",
    "#calculate t-score \n",
    "t_score=dif_mean/dif_se\n",
    "print(\"t-score : \",t_score)"
   ]
  },
  {
   "cell_type": "markdown",
   "metadata": {},
   "source": [
    "The t-score after intervention of congruency is in the critical region as it is less than -1.714. For t-score of -8.0207 and degrees of freedon 23, p-value is even less than 0.0005 and nearing 0.00. So we can reject the Null hypothesis and say that congruency has an effect of time required to say in stroopdata test(congruency reduces response time). "
   ]
  },
  {
   "cell_type": "code",
   "execution_count": null,
   "metadata": {},
   "outputs": [],
   "source": []
  }
 ],
 "metadata": {
  "kernelspec": {
   "display_name": "Python 3",
   "language": "python",
   "name": "python3"
  },
  "language_info": {
   "codemirror_mode": {
    "name": "ipython",
    "version": 3
   },
   "file_extension": ".py",
   "mimetype": "text/x-python",
   "name": "python",
   "nbconvert_exporter": "python",
   "pygments_lexer": "ipython3",
   "version": "3.7.1"
  }
 },
 "nbformat": 4,
 "nbformat_minor": 2
}
